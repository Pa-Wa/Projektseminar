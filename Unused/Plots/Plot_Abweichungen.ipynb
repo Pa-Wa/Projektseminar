{
 "cells": [
  {
   "cell_type": "code",
   "execution_count": 1,
   "id": "94571e2b",
   "metadata": {},
   "outputs": [],
   "source": [
    "import pandas as pd\n",
    "import plotly.express as px\n",
    "import plotly.graph_objects as go"
   ]
  },
  {
   "cell_type": "code",
   "execution_count": 2,
   "id": "bd56da26",
   "metadata": {},
   "outputs": [],
   "source": [
    "pred1 = [257.68,255.73,253.81,251.97,250.23,248.57,246.99,245.46,243.97,242.51]\n",
    "pred2 = [267.13,271.73,276.88,282.49,288.46,294.72,301.19,307.79,314.46,321.16]\n",
    "pred3 = [260.86,259.87,259.04,258.37,257.85,257.45,257.13,256.88,256.66,256.46]"
   ]
  },
  {
   "cell_type": "code",
   "execution_count": 3,
   "id": "4d057949",
   "metadata": {},
   "outputs": [],
   "source": [
    "dates = [\"2023-06-26\",\"2023-06-27\",\"2023-06-28\",\"2023-06-29\",\"2023-06-30\",\n",
    "         \"2023-07-03\",\"2023-07-05\",\"2023-07-06\",\"2023-07-07\",\"2023-07-10\"]\n",
    "dates2 = [\"26.06.2023\",\"27.06.2023\",\"28.06.2023\",\"29.06.2023\",\"30.06.2023\",\"03.07.2023\",\"05.07.2023\"\n",
    "          ,\"06.07.2023\",\"07.07.2023\",\"10.07.2023\"]"
   ]
  },
  {
   "cell_type": "code",
   "execution_count": 7,
   "id": "ef42e288",
   "metadata": {},
   "outputs": [],
   "source": [
    "fig2 = px.line(template = \"simple_white\")#template = \"simple_white\"\n",
    "fig2.add_trace(go.Scatter(x = dates2, y = pred1, mode = \"lines\", name = \"Prognose 1\", line_color = \"red\"))\n",
    "fig2.add_trace(go.Scatter(x = dates2, y = pred2, mode = \"lines\", name = \"Prognose 2\", line_color = \"blue\"))\n",
    "fig2.add_trace(go.Scatter(x = dates2, y = pred3, mode = \"lines\", name = \"Prognose 3\", line_color = \"green\"))\n",
    "fig2.update_layout(xaxis_title = \"Datum\", yaxis_title = \"Tesla Kurspreis in USD\", xaxis= {\"type\": \"category\"}, legend=dict(x=0, y=1))\n",
    "fig2.write_image(\"Plot_Abweichung_Vorher.pdf\")\n"
   ]
  },
  {
   "cell_type": "code",
   "execution_count": 5,
   "id": "54af3b6d",
   "metadata": {},
   "outputs": [],
   "source": [
    "dates3 = [\"26.06.2023\",\"27.06.2023\",\"28.06.2023\",\"29.06.2023\",\"30.06.2023\",\"03.07.2023\",\"05.07.2023\"\n",
    "          ,\"06.07.2023\",\"07.07.2023\",\"10.07.2023\"]\n",
    "pred4 = [261.33,261.05,261.00,261.14,261.44,261.86,262.37,262.93,263.53,264.14]\n",
    "pred5 = [259.17,257.54,255.98,254.50,253.12,251.84,250.64,249.52,248.46,247.44]\n",
    "pred6 = [259.37,258.23,257.12,256.08,255.12,254.24,253.46,252.75,252.11,251.53]"
   ]
  },
  {
   "cell_type": "code",
   "execution_count": 8,
   "id": "039643c1",
   "metadata": {},
   "outputs": [],
   "source": [
    "fig3 = px.line(template = \"simple_white\")#template = \"simple_white\"\n",
    "fig3.add_trace(go.Scatter(x = dates3, y = pred4, mode = \"lines\", name = \"Prognose 1\", line_color = \"red\"))\n",
    "fig3.add_trace(go.Scatter(x = dates3, y = pred5, mode = \"lines\", name = \"Prognose 2\", line_color = \"blue\"))\n",
    "fig3.add_trace(go.Scatter(x = dates3, y = pred6, mode = \"lines\", name = \"Prognose 3\", line_color = \"green\"))\n",
    "fig3.update_layout(xaxis_title = \"Datum\", yaxis_title = \"Tesla Kurspreis in USD\", xaxis= {\"type\": \"category\"}, legend=dict(x=0, y=1))\n",
    "fig3.write_image(\"Plot_Abweichung_Nachher.pdf\")"
   ]
  },
  {
   "cell_type": "code",
   "execution_count": null,
   "id": "d21722e9",
   "metadata": {},
   "outputs": [],
   "source": []
  }
 ],
 "metadata": {
  "kernelspec": {
   "display_name": "Python 3 (ipykernel)",
   "language": "python",
   "name": "python3"
  },
  "language_info": {
   "codemirror_mode": {
    "name": "ipython",
    "version": 3
   },
   "file_extension": ".py",
   "mimetype": "text/x-python",
   "name": "python",
   "nbconvert_exporter": "python",
   "pygments_lexer": "ipython3",
   "version": "3.9.12"
  }
 },
 "nbformat": 4,
 "nbformat_minor": 5
}
