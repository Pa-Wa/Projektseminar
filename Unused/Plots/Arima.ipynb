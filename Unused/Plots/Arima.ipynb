{
 "cells": [
  {
   "cell_type": "code",
   "execution_count": 1,
   "id": "f18dd2aa",
   "metadata": {},
   "outputs": [],
   "source": [
    "import yfinance as yf\n",
    "import pandas as pd\n",
    "from statsmodels.tsa.holtwinters import ExponentialSmoothing\n",
    "from sklearn.metrics import mean_absolute_error\n",
    "import numpy as np\n",
    "from datetime import date, datetime\n",
    "from dateutil.relativedelta import relativedelta\n",
    "from pmdarima.arima import auto_arima\n",
    "import matplotlib.pyplot as plt\n",
    "from tensorflow import keras\n",
    "from keras.models import Sequential, load_model\n",
    "from keras import layers\n",
    "from keras.optimizers import Adam\n",
    "from sklearn.preprocessing import MinMaxScaler\n",
    "from sklearn.metrics import mean_squared_error\n",
    "import math\n",
    "import warnings\n",
    "warnings.filterwarnings(\"ignore\", category=pd.core.common.SettingWithCopyWarning)\n",
    "import pandas as pd\n",
    "import plotly.express as px\n",
    "import plotly.graph_objects as go"
   ]
  },
  {
   "cell_type": "code",
   "execution_count": 2,
   "id": "03077bf2",
   "metadata": {},
   "outputs": [],
   "source": [
    "def ARIMA(historical_data):\n",
    "    model = auto_arima(historical_data, seasonal=True, stepwise=True, m=6, method=\"bfgs\", maxiter=20, suppress_warnings=True) #Auto-Arima passt automatisch p un q an\n",
    "    forecast = model.predict(n_periods=10)\n",
    "    forecast_df = pd.DataFrame(forecast, columns=[\"Predicted Price\"])\n",
    "    fitted_values = model.fittedvalues()\n",
    "    order = model.order  # (p, d, q)\n",
    "    \n",
    "    return forecast_df, fitted_values, order"
   ]
  },
  {
   "cell_type": "code",
   "execution_count": 6,
   "id": "0c373218",
   "metadata": {},
   "outputs": [
    {
     "name": "stdout",
     "output_type": "stream",
     "text": [
      "[*********************100%***********************]  1 of 1 completed\n"
     ]
    },
    {
     "name": "stderr",
     "output_type": "stream",
     "text": [
      "C:\\Users\\pasca\\anaconda3\\lib\\site-packages\\statsmodels\\tsa\\base\\tsa_model.py:834: ValueWarning: No supported index is available. Prediction results will be given with an integer index beginning at `start`.\n",
      "  return get_prediction_index(\n"
     ]
    }
   ],
   "source": [
    "data = yf.download(\"MDO.DE\", period = \"max\")\n",
    "data.drop(columns = [\"Open\", \"High\", \"Low\", \"Volume\", \"Adj Close\"], axis = 1, inplace = True)\n",
    "end_zeitpunkte = [\"2023-07-07\"]\n",
    "end_zeitpunkte_ts = [datetime.strptime(end_zeitpunkte[0], \"%Y-%m-%d\").date()]\n",
    "\n",
    "#hier Zeitraum der historischen Daten anpassen:\n",
    "time_horizont = 3\n",
    "start_zeitpunkte_ts = [end_zeitpunkte_ts[0]-relativedelta(years=time_horizont)]\n",
    "filtered_df = data.loc[start_zeitpunkte_ts[0]:end_zeitpunkte_ts[0]]\n",
    "hist_data = filtered_df[: len(filtered_df)-10]\n",
    "hist_data_for_function = hist_data.copy()\n",
    "prog_data = filtered_df[len(filtered_df)-10 :]\n",
    "index_list = prog_data.index.tolist()\n",
    "\n",
    "forecast_df, fitted_values, order = ARIMA(hist_data_for_function)\n",
    "\n",
    "forecast_df.set_index(pd.Index(index_list), inplace=True)\n",
    "result = pd.concat([prog_data, forecast_df], axis=1)"
   ]
  },
  {
   "cell_type": "code",
   "execution_count": 10,
   "id": "dc159c67",
   "metadata": {},
   "outputs": [],
   "source": [
    "fig2 = px.line(template = \"simple_white\")\n",
    "fig2.add_trace(go.Scatter(x = result.index.strftime(\"%Y-%m-%d\"), y = result[\"Close\"], mode = \"lines\", name = \"Tatsächlicher Kurs\", line_color = \"red\"))\n",
    "fig2.add_trace(go.Scatter(x = result.index.strftime(\"%Y-%m-%d\"), y = result[\"Predicted Price\"], mode = \"lines\", name = \"Prognose\", line_color = \"blue\"))\n",
    "fig2.update_layout(xaxis_title = \"Datum\", yaxis_title = \"MC Donalds Kurspreis in EUR\", xaxis= {\"type\": \"category\"}, legend=dict(x=0, y=1))\n",
    "fig2.write_image(\"Prog_Arima.pdf\")"
   ]
  },
  {
   "cell_type": "code",
   "execution_count": 18,
   "id": "782bd548",
   "metadata": {},
   "outputs": [],
   "source": [
    "fig3 = px.line(template = \"simple_white\")\n",
    "fig3.add_trace(go.Scatter(x = hist_data.index[629:], y = hist_data[\"Close\"][629:], mode = \"lines\", name = \"Tatsächliche Daten\", line_color = \"red\"))\n",
    "fig3.add_trace(go.Scatter(x = hist_data.index[629:], y = fitted_values[629:], mode = \"lines\", name = \"Prognostizierte Daten\", line_color = \"blue\"))\n",
    "fig3.update_layout(xaxis_title = \"Datum\", yaxis_title = \"MC Donalds Kurspreis in EUR\", legend=dict(x=0, y=1))\n",
    "fig3.write_image(\"Train_Arima.pdf\")"
   ]
  }
 ],
 "metadata": {
  "kernelspec": {
   "display_name": "Python 3 (ipykernel)",
   "language": "python",
   "name": "python3"
  },
  "language_info": {
   "codemirror_mode": {
    "name": "ipython",
    "version": 3
   },
   "file_extension": ".py",
   "mimetype": "text/x-python",
   "name": "python",
   "nbconvert_exporter": "python",
   "pygments_lexer": "ipython3",
   "version": "3.9.12"
  }
 },
 "nbformat": 4,
 "nbformat_minor": 5
}
