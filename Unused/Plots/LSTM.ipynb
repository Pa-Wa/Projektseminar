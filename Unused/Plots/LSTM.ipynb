{
 "cells": [
  {
   "cell_type": "code",
   "execution_count": 1,
   "id": "c869dadf",
   "metadata": {},
   "outputs": [],
   "source": [
    "import yfinance as yf\n",
    "import pandas as pd\n",
    "from statsmodels.tsa.holtwinters import ExponentialSmoothing\n",
    "from sklearn.metrics import mean_absolute_error\n",
    "import numpy as np\n",
    "from datetime import date, datetime\n",
    "from dateutil.relativedelta import relativedelta\n",
    "from pmdarima.arima import auto_arima\n",
    "import matplotlib.pyplot as plt\n",
    "from tensorflow import keras\n",
    "from keras.models import Sequential, load_model\n",
    "from keras import layers\n",
    "from keras.optimizers import Adam\n",
    "from sklearn.preprocessing import MinMaxScaler\n",
    "from sklearn.metrics import mean_squared_error\n",
    "import math\n",
    "import warnings\n",
    "warnings.filterwarnings(\"ignore\", category=pd.core.common.SettingWithCopyWarning)\n",
    "import pandas as pd\n",
    "import plotly.express as px\n",
    "import plotly.graph_objects as go"
   ]
  },
  {
   "cell_type": "code",
   "execution_count": 2,
   "id": "31b26f04",
   "metadata": {},
   "outputs": [],
   "source": [
    "def data_to_windowed_data(df, windows):\n",
    "    close_prices = df[\"Close\"]\n",
    "    for i in range(windows - 1, -1, -1):\n",
    "        column_name = f\"Target_{i+1}\"\n",
    "        df.loc[:, column_name] = close_prices.shift(i+1)\n",
    "    df.reset_index(inplace = True)\n",
    "    df.rename(columns = {\"Date\":\"Target Date\"}, inplace = True)\n",
    "    col = df.pop(\"Close\")\n",
    "    df.insert(loc= len(df.columns) , column= \"Target\", value= col)\n",
    "    df.dropna(inplace = True)\n",
    "    return df\n",
    "def windowed_df_to_d_x_y(wdf):\n",
    "    df_as_np = wdf.to_numpy()\n",
    "    dates = df_as_np[:,0]\n",
    "    pre_matrix = df_as_np[:, 1:-1]\n",
    "    X = pre_matrix.reshape((len(dates), pre_matrix.shape[1], 1))\n",
    "    Y = df_as_np[:, -1]\n",
    "    return dates, X.astype(np.float32), Y.astype(np.float32)"
   ]
  },
  {
   "cell_type": "code",
   "execution_count": 12,
   "id": "56f43672",
   "metadata": {},
   "outputs": [],
   "source": [
    "def LSTM_real(hist_data):\n",
    "    scaler = MinMaxScaler(feature_range=(0, 1))\n",
    "    hist_data[[\"Close\"]] = scaler.fit_transform(hist_data[[\"Close\"]])\n",
    "\n",
    "    window_size = 50\n",
    "    windowed_df = data_to_windowed_data(hist_data, window_size)\n",
    "    dates, X, y = windowed_df_to_d_x_y(windowed_df)\n",
    "\n",
    "    train_split = int(len(dates) * 0.8)\n",
    "    dates_train, X_train, y_train = dates[:train_split], X[:train_split], y[:train_split]\n",
    "    dates_val, X_val, y_val = dates[train_split:], X[train_split:], y[train_split:]\n",
    "\n",
    "    model = Sequential([layers.Input((window_size, 1)),\n",
    "                        layers.LSTM(64, return_sequences= False),\n",
    "                        #layers.LSTM(units, return_sequences = True),\n",
    "                        #layers.LSTM(units),\n",
    "                        layers.Dense(32, activation='relu'),\n",
    "                        layers.Dense(1)])\n",
    "\n",
    "        #early_stopping = keras.callbacks.EarlyStopping(monitor='val_loss', patience = 5, mode='min')\n",
    "\n",
    "    model.compile(loss='mse',\n",
    "                optimizer=Adam(learning_rate=0.001),\n",
    "                metrics=['mean_absolute_error'])\n",
    "    \n",
    "    checkpoint_filepath = 'best_model.h5'\n",
    "    model_checkpoint_callback = keras.callbacks.ModelCheckpoint(\n",
    "    filepath=checkpoint_filepath,\n",
    "    monitor='val_loss',\n",
    "    mode='min',\n",
    "    save_best_only=True)\n",
    "\n",
    "    model.fit(X_train, y_train, validation_data=(X_val, y_val), epochs = 80, verbose = 1, callbacks = [model_checkpoint_callback], batch_size =32) # callbacks =  [early_stopping]\n",
    "    model = load_model(checkpoint_filepath)\n",
    "    train_predict = model.predict(X_train)\n",
    "    val_predict = model.predict(X_val)\n",
    "    pre_last_window = X_val[-1]\n",
    "    last_window = np.delete(pre_last_window, obj = [0])\n",
    "    last_price = hist_data.iloc[-1][-1]\n",
    "    last_window = np.append(last_window, last_price)\n",
    "    last_window = np.reshape(last_window, (len(last_window), 1))\n",
    "    predictions = []\n",
    "    for iii in range(10):\n",
    "        next_prediction = model.predict(np.array([last_window])).flatten()\n",
    "        next_window = np.delete(last_window, obj = [0])\n",
    "        next_window = np.append(next_window, next_prediction)\n",
    "        last_window = np.reshape(next_window, (len(next_window), 1))\n",
    "        real_prediction = scaler.inverse_transform(next_prediction.reshape(-1, 1))\n",
    "        predictions.append(real_prediction)\n",
    "    array_predictions = [predictions[ii][0][0] for ii in range(len(predictions))]\n",
    "    forecast_df = pd.DataFrame(array_predictions, columns=[\"Predicted Price\"])\n",
    "    \n",
    "    \n",
    "    train_predictions = scaler.inverse_transform(train_predict)\n",
    "    val_predictions = scaler.inverse_transform(val_predict)\n",
    "    y_trained = y_train.reshape(len(y_train), 1)\n",
    "    y_trained = scaler.inverse_transform(y_trained)\n",
    "    y_valed = y_val.reshape(len(y_val), 1)\n",
    "    y_valed = scaler.inverse_transform(y_valed)\n",
    "    df_valid = pd.DataFrame(index= dates_val, columns=[\"True\", \"Pred\"], data=np.hstack((y_valed, val_predictions)))\n",
    "    df_train = pd.DataFrame(index= dates_train, columns=[\"True\", \"Pred\"], data=np.hstack((y_trained, train_predictions)))\n",
    "    \n",
    "    \n",
    "    return forecast_df, df_train, df_valid"
   ]
  },
  {
   "cell_type": "code",
   "execution_count": 13,
   "id": "237eacbd",
   "metadata": {},
   "outputs": [
    {
     "name": "stdout",
     "output_type": "stream",
     "text": [
      "[*********************100%***********************]  1 of 1 completed\n",
      "Epoch 1/80\n",
      "18/18 [==============================] - 3s 46ms/step - loss: 0.0726 - mean_absolute_error: 0.2037 - val_loss: 0.0013 - val_mean_absolute_error: 0.0311\n",
      "Epoch 2/80\n",
      "18/18 [==============================] - 0s 16ms/step - loss: 0.0057 - mean_absolute_error: 0.0585 - val_loss: 0.0016 - val_mean_absolute_error: 0.0328\n",
      "Epoch 3/80\n",
      "18/18 [==============================] - 0s 17ms/step - loss: 0.0028 - mean_absolute_error: 0.0428 - val_loss: 0.0027 - val_mean_absolute_error: 0.0444\n",
      "Epoch 4/80\n",
      "18/18 [==============================] - 0s 20ms/step - loss: 0.0019 - mean_absolute_error: 0.0335 - val_loss: 8.5910e-04 - val_mean_absolute_error: 0.0248\n",
      "Epoch 5/80\n",
      "18/18 [==============================] - 0s 17ms/step - loss: 0.0016 - mean_absolute_error: 0.0305 - val_loss: 9.9677e-04 - val_mean_absolute_error: 0.0254\n",
      "Epoch 6/80\n",
      "18/18 [==============================] - 0s 17ms/step - loss: 0.0015 - mean_absolute_error: 0.0295 - val_loss: 7.3436e-04 - val_mean_absolute_error: 0.0229\n",
      "Epoch 7/80\n",
      "18/18 [==============================] - 0s 17ms/step - loss: 0.0015 - mean_absolute_error: 0.0296 - val_loss: 8.2743e-04 - val_mean_absolute_error: 0.0234\n",
      "Epoch 8/80\n",
      "18/18 [==============================] - 0s 19ms/step - loss: 0.0014 - mean_absolute_error: 0.0288 - val_loss: 7.7877e-04 - val_mean_absolute_error: 0.0235\n",
      "Epoch 9/80\n",
      "18/18 [==============================] - 0s 19ms/step - loss: 0.0014 - mean_absolute_error: 0.0287 - val_loss: 9.0219e-04 - val_mean_absolute_error: 0.0239\n",
      "Epoch 10/80\n",
      "18/18 [==============================] - 0s 19ms/step - loss: 0.0013 - mean_absolute_error: 0.0280 - val_loss: 0.0013 - val_mean_absolute_error: 0.0285\n",
      "Epoch 11/80\n",
      "18/18 [==============================] - 0s 20ms/step - loss: 0.0014 - mean_absolute_error: 0.0285 - val_loss: 6.7007e-04 - val_mean_absolute_error: 0.0212\n",
      "Epoch 12/80\n",
      "18/18 [==============================] - 0s 19ms/step - loss: 0.0013 - mean_absolute_error: 0.0271 - val_loss: 9.1506e-04 - val_mean_absolute_error: 0.0241\n",
      "Epoch 13/80\n",
      "18/18 [==============================] - 0s 20ms/step - loss: 0.0014 - mean_absolute_error: 0.0277 - val_loss: 5.7494e-04 - val_mean_absolute_error: 0.0202\n",
      "Epoch 14/80\n",
      "18/18 [==============================] - 0s 19ms/step - loss: 0.0013 - mean_absolute_error: 0.0273 - val_loss: 0.0016 - val_mean_absolute_error: 0.0351\n",
      "Epoch 15/80\n",
      "18/18 [==============================] - 0s 19ms/step - loss: 0.0013 - mean_absolute_error: 0.0282 - val_loss: 7.3954e-04 - val_mean_absolute_error: 0.0216\n",
      "Epoch 16/80\n",
      "18/18 [==============================] - 0s 20ms/step - loss: 0.0012 - mean_absolute_error: 0.0261 - val_loss: 5.3596e-04 - val_mean_absolute_error: 0.0190\n",
      "Epoch 17/80\n",
      "18/18 [==============================] - 0s 19ms/step - loss: 0.0013 - mean_absolute_error: 0.0269 - val_loss: 0.0013 - val_mean_absolute_error: 0.0298\n",
      "Epoch 18/80\n",
      "18/18 [==============================] - 0s 19ms/step - loss: 0.0011 - mean_absolute_error: 0.0256 - val_loss: 5.8286e-04 - val_mean_absolute_error: 0.0200\n",
      "Epoch 19/80\n",
      "18/18 [==============================] - 0s 19ms/step - loss: 0.0011 - mean_absolute_error: 0.0255 - val_loss: 0.0014 - val_mean_absolute_error: 0.0306\n",
      "Epoch 20/80\n",
      "18/18 [==============================] - 0s 19ms/step - loss: 0.0011 - mean_absolute_error: 0.0250 - val_loss: 7.8911e-04 - val_mean_absolute_error: 0.0223\n",
      "Epoch 21/80\n",
      "18/18 [==============================] - 0s 21ms/step - loss: 0.0010 - mean_absolute_error: 0.0240 - val_loss: 4.6296e-04 - val_mean_absolute_error: 0.0174\n",
      "Epoch 22/80\n",
      "18/18 [==============================] - 0s 19ms/step - loss: 9.8988e-04 - mean_absolute_error: 0.0237 - val_loss: 5.5224e-04 - val_mean_absolute_error: 0.0195\n",
      "Epoch 23/80\n",
      "18/18 [==============================] - 0s 19ms/step - loss: 9.7939e-04 - mean_absolute_error: 0.0234 - val_loss: 5.7489e-04 - val_mean_absolute_error: 0.0200\n",
      "Epoch 24/80\n",
      "18/18 [==============================] - 0s 20ms/step - loss: 9.5230e-04 - mean_absolute_error: 0.0232 - val_loss: 4.7524e-04 - val_mean_absolute_error: 0.0171\n",
      "Epoch 25/80\n",
      "18/18 [==============================] - 0s 19ms/step - loss: 9.5434e-04 - mean_absolute_error: 0.0232 - val_loss: 4.7255e-04 - val_mean_absolute_error: 0.0179\n",
      "Epoch 26/80\n",
      "18/18 [==============================] - 0s 19ms/step - loss: 9.3312e-04 - mean_absolute_error: 0.0231 - val_loss: 7.7855e-04 - val_mean_absolute_error: 0.0238\n",
      "Epoch 27/80\n",
      "18/18 [==============================] - 0s 19ms/step - loss: 0.0011 - mean_absolute_error: 0.0252 - val_loss: 0.0018 - val_mean_absolute_error: 0.0376\n",
      "Epoch 28/80\n",
      "18/18 [==============================] - 0s 19ms/step - loss: 0.0010 - mean_absolute_error: 0.0245 - val_loss: 0.0014 - val_mean_absolute_error: 0.0316\n",
      "Epoch 29/80\n",
      "18/18 [==============================] - 0s 20ms/step - loss: 0.0010 - mean_absolute_error: 0.0245 - val_loss: 4.2699e-04 - val_mean_absolute_error: 0.0168\n",
      "Epoch 30/80\n",
      "18/18 [==============================] - 0s 19ms/step - loss: 9.7525e-04 - mean_absolute_error: 0.0235 - val_loss: 9.3573e-04 - val_mean_absolute_error: 0.0264\n",
      "Epoch 31/80\n",
      "18/18 [==============================] - 0s 19ms/step - loss: 9.7250e-04 - mean_absolute_error: 0.0241 - val_loss: 0.0017 - val_mean_absolute_error: 0.0364\n",
      "Epoch 32/80\n",
      "18/18 [==============================] - 0s 19ms/step - loss: 0.0011 - mean_absolute_error: 0.0243 - val_loss: 7.3257e-04 - val_mean_absolute_error: 0.0231\n",
      "Epoch 33/80\n",
      "18/18 [==============================] - 0s 19ms/step - loss: 0.0010 - mean_absolute_error: 0.0240 - val_loss: 4.4194e-04 - val_mean_absolute_error: 0.0172\n",
      "Epoch 34/80\n",
      "18/18 [==============================] - 0s 19ms/step - loss: 9.4934e-04 - mean_absolute_error: 0.0233 - val_loss: 6.4254e-04 - val_mean_absolute_error: 0.0200\n",
      "Epoch 35/80\n",
      "18/18 [==============================] - 0s 19ms/step - loss: 8.9696e-04 - mean_absolute_error: 0.0226 - val_loss: 4.3751e-04 - val_mean_absolute_error: 0.0171\n",
      "Epoch 36/80\n",
      "18/18 [==============================] - 0s 19ms/step - loss: 7.9267e-04 - mean_absolute_error: 0.0212 - val_loss: 4.8489e-04 - val_mean_absolute_error: 0.0172\n",
      "Epoch 37/80\n",
      "18/18 [==============================] - 0s 20ms/step - loss: 7.9840e-04 - mean_absolute_error: 0.0210 - val_loss: 4.1324e-04 - val_mean_absolute_error: 0.0158\n",
      "Epoch 38/80\n",
      "18/18 [==============================] - 0s 19ms/step - loss: 7.5928e-04 - mean_absolute_error: 0.0208 - val_loss: 4.6832e-04 - val_mean_absolute_error: 0.0168\n",
      "Epoch 39/80\n",
      "18/18 [==============================] - 0s 19ms/step - loss: 7.6718e-04 - mean_absolute_error: 0.0210 - val_loss: 4.0116e-04 - val_mean_absolute_error: 0.0160\n",
      "Epoch 40/80\n",
      "18/18 [==============================] - 0s 19ms/step - loss: 7.4786e-04 - mean_absolute_error: 0.0206 - val_loss: 4.0343e-04 - val_mean_absolute_error: 0.0157\n",
      "Epoch 41/80\n",
      "18/18 [==============================] - 0s 19ms/step - loss: 7.4893e-04 - mean_absolute_error: 0.0206 - val_loss: 4.1847e-04 - val_mean_absolute_error: 0.0158\n",
      "Epoch 42/80\n",
      "18/18 [==============================] - 0s 19ms/step - loss: 8.2550e-04 - mean_absolute_error: 0.0219 - val_loss: 4.4369e-04 - val_mean_absolute_error: 0.0174\n",
      "Epoch 43/80\n",
      "18/18 [==============================] - 0s 20ms/step - loss: 8.4517e-04 - mean_absolute_error: 0.0220 - val_loss: 3.9995e-04 - val_mean_absolute_error: 0.0157\n",
      "Epoch 44/80\n",
      "18/18 [==============================] - 0s 19ms/step - loss: 7.1124e-04 - mean_absolute_error: 0.0201 - val_loss: 4.9326e-04 - val_mean_absolute_error: 0.0187\n",
      "Epoch 45/80\n",
      "18/18 [==============================] - 0s 20ms/step - loss: 7.6234e-04 - mean_absolute_error: 0.0207 - val_loss: 3.9706e-04 - val_mean_absolute_error: 0.0159\n",
      "Epoch 46/80\n",
      "18/18 [==============================] - 0s 20ms/step - loss: 7.1146e-04 - mean_absolute_error: 0.0200 - val_loss: 4.9778e-04 - val_mean_absolute_error: 0.0174\n",
      "Epoch 47/80\n",
      "18/18 [==============================] - 0s 19ms/step - loss: 7.0839e-04 - mean_absolute_error: 0.0198 - val_loss: 5.3350e-04 - val_mean_absolute_error: 0.0196\n",
      "Epoch 48/80\n",
      "18/18 [==============================] - 0s 19ms/step - loss: 7.2000e-04 - mean_absolute_error: 0.0202 - val_loss: 5.5469e-04 - val_mean_absolute_error: 0.0200\n",
      "Epoch 49/80\n"
     ]
    },
    {
     "name": "stdout",
     "output_type": "stream",
     "text": [
      "18/18 [==============================] - 0s 19ms/step - loss: 6.9056e-04 - mean_absolute_error: 0.0197 - val_loss: 4.2032e-04 - val_mean_absolute_error: 0.0159\n",
      "Epoch 50/80\n",
      "18/18 [==============================] - 0s 19ms/step - loss: 7.1848e-04 - mean_absolute_error: 0.0204 - val_loss: 4.0973e-04 - val_mean_absolute_error: 0.0157\n",
      "Epoch 51/80\n",
      "18/18 [==============================] - 0s 19ms/step - loss: 7.3799e-04 - mean_absolute_error: 0.0204 - val_loss: 0.0013 - val_mean_absolute_error: 0.0312\n",
      "Epoch 52/80\n",
      "18/18 [==============================] - 0s 19ms/step - loss: 7.4791e-04 - mean_absolute_error: 0.0205 - val_loss: 4.7693e-04 - val_mean_absolute_error: 0.0171\n",
      "Epoch 53/80\n",
      "18/18 [==============================] - 0s 19ms/step - loss: 7.0854e-04 - mean_absolute_error: 0.0201 - val_loss: 4.3565e-04 - val_mean_absolute_error: 0.0172\n",
      "Epoch 54/80\n",
      "18/18 [==============================] - 0s 19ms/step - loss: 6.8337e-04 - mean_absolute_error: 0.0196 - val_loss: 5.4665e-04 - val_mean_absolute_error: 0.0185\n",
      "Epoch 55/80\n",
      "18/18 [==============================] - 0s 18ms/step - loss: 6.9489e-04 - mean_absolute_error: 0.0199 - val_loss: 4.1139e-04 - val_mean_absolute_error: 0.0158\n",
      "Epoch 56/80\n",
      "18/18 [==============================] - 0s 21ms/step - loss: 6.8220e-04 - mean_absolute_error: 0.0198 - val_loss: 3.9135e-04 - val_mean_absolute_error: 0.0156\n",
      "Epoch 57/80\n",
      "18/18 [==============================] - 0s 20ms/step - loss: 6.3595e-04 - mean_absolute_error: 0.0190 - val_loss: 4.0377e-04 - val_mean_absolute_error: 0.0162\n",
      "Epoch 58/80\n",
      "18/18 [==============================] - 0s 21ms/step - loss: 7.1270e-04 - mean_absolute_error: 0.0199 - val_loss: 5.5768e-04 - val_mean_absolute_error: 0.0199\n",
      "Epoch 59/80\n",
      "18/18 [==============================] - 0s 19ms/step - loss: 7.0975e-04 - mean_absolute_error: 0.0202 - val_loss: 4.5003e-04 - val_mean_absolute_error: 0.0175\n",
      "Epoch 60/80\n",
      "18/18 [==============================] - 0s 19ms/step - loss: 8.0574e-04 - mean_absolute_error: 0.0216 - val_loss: 0.0013 - val_mean_absolute_error: 0.0313\n",
      "Epoch 61/80\n",
      "18/18 [==============================] - 0s 19ms/step - loss: 7.3591e-04 - mean_absolute_error: 0.0205 - val_loss: 4.2057e-04 - val_mean_absolute_error: 0.0161\n",
      "Epoch 62/80\n",
      "18/18 [==============================] - 0s 21ms/step - loss: 7.1191e-04 - mean_absolute_error: 0.0205 - val_loss: 4.6263e-04 - val_mean_absolute_error: 0.0178\n",
      "Epoch 63/80\n",
      "18/18 [==============================] - 0s 19ms/step - loss: 5.9820e-04 - mean_absolute_error: 0.0186 - val_loss: 4.0047e-04 - val_mean_absolute_error: 0.0157\n",
      "Epoch 64/80\n",
      "18/18 [==============================] - 0s 19ms/step - loss: 5.8767e-04 - mean_absolute_error: 0.0182 - val_loss: 7.8809e-04 - val_mean_absolute_error: 0.0239\n",
      "Epoch 65/80\n",
      "18/18 [==============================] - 0s 19ms/step - loss: 6.6457e-04 - mean_absolute_error: 0.0192 - val_loss: 3.9193e-04 - val_mean_absolute_error: 0.0155\n",
      "Epoch 66/80\n",
      "18/18 [==============================] - 0s 20ms/step - loss: 5.7694e-04 - mean_absolute_error: 0.0180 - val_loss: 5.8815e-04 - val_mean_absolute_error: 0.0193\n",
      "Epoch 67/80\n",
      "18/18 [==============================] - 0s 21ms/step - loss: 6.6715e-04 - mean_absolute_error: 0.0196 - val_loss: 7.0070e-04 - val_mean_absolute_error: 0.0224\n",
      "Epoch 68/80\n",
      "18/18 [==============================] - 0s 22ms/step - loss: 6.0705e-04 - mean_absolute_error: 0.0185 - val_loss: 3.9671e-04 - val_mean_absolute_error: 0.0160\n",
      "Epoch 69/80\n",
      "18/18 [==============================] - 0s 24ms/step - loss: 6.3473e-04 - mean_absolute_error: 0.0193 - val_loss: 3.8252e-04 - val_mean_absolute_error: 0.0154\n",
      "Epoch 70/80\n",
      "18/18 [==============================] - 0s 22ms/step - loss: 5.6533e-04 - mean_absolute_error: 0.0179 - val_loss: 4.3575e-04 - val_mean_absolute_error: 0.0166\n",
      "Epoch 71/80\n",
      "18/18 [==============================] - 0s 25ms/step - loss: 7.1746e-04 - mean_absolute_error: 0.0203 - val_loss: 7.9777e-04 - val_mean_absolute_error: 0.0231\n",
      "Epoch 72/80\n",
      "18/18 [==============================] - 0s 21ms/step - loss: 6.0611e-04 - mean_absolute_error: 0.0182 - val_loss: 5.0008e-04 - val_mean_absolute_error: 0.0179\n",
      "Epoch 73/80\n",
      "18/18 [==============================] - 0s 23ms/step - loss: 6.2732e-04 - mean_absolute_error: 0.0191 - val_loss: 3.8134e-04 - val_mean_absolute_error: 0.0154\n",
      "Epoch 74/80\n",
      "18/18 [==============================] - 0s 22ms/step - loss: 5.5801e-04 - mean_absolute_error: 0.0177 - val_loss: 4.2475e-04 - val_mean_absolute_error: 0.0166\n",
      "Epoch 75/80\n",
      "18/18 [==============================] - 0s 22ms/step - loss: 6.2176e-04 - mean_absolute_error: 0.0189 - val_loss: 7.4484e-04 - val_mean_absolute_error: 0.0231\n",
      "Epoch 76/80\n",
      "18/18 [==============================] - 0s 22ms/step - loss: 5.9239e-04 - mean_absolute_error: 0.0183 - val_loss: 3.8741e-04 - val_mean_absolute_error: 0.0156\n",
      "Epoch 77/80\n",
      "18/18 [==============================] - 0s 23ms/step - loss: 5.4487e-04 - mean_absolute_error: 0.0176 - val_loss: 3.7876e-04 - val_mean_absolute_error: 0.0153\n",
      "Epoch 78/80\n",
      "18/18 [==============================] - 0s 22ms/step - loss: 5.7873e-04 - mean_absolute_error: 0.0180 - val_loss: 4.9981e-04 - val_mean_absolute_error: 0.0182\n",
      "Epoch 79/80\n",
      "18/18 [==============================] - 0s 21ms/step - loss: 5.4317e-04 - mean_absolute_error: 0.0175 - val_loss: 3.8877e-04 - val_mean_absolute_error: 0.0156\n",
      "Epoch 80/80\n",
      "18/18 [==============================] - 0s 22ms/step - loss: 5.9136e-04 - mean_absolute_error: 0.0182 - val_loss: 4.3611e-04 - val_mean_absolute_error: 0.0169\n",
      "18/18 [==============================] - 1s 6ms/step\n",
      "5/5 [==============================] - 0s 6ms/step\n",
      "1/1 [==============================] - 0s 24ms/step\n",
      "1/1 [==============================] - 0s 19ms/step\n",
      "1/1 [==============================] - 0s 19ms/step\n",
      "1/1 [==============================] - 0s 18ms/step\n",
      "1/1 [==============================] - 0s 17ms/step\n",
      "1/1 [==============================] - 0s 18ms/step\n",
      "1/1 [==============================] - 0s 19ms/step\n",
      "1/1 [==============================] - 0s 18ms/step\n",
      "1/1 [==============================] - 0s 18ms/step\n",
      "1/1 [==============================] - 0s 19ms/step\n"
     ]
    }
   ],
   "source": [
    "data = yf.download(\"MDO.DE\", period = \"max\")\n",
    "data.drop(columns = [\"Open\", \"High\", \"Low\", \"Volume\", \"Adj Close\"], axis = 1, inplace = True)\n",
    "end_zeitpunkte = [\"2023-07-07\"]\n",
    "end_zeitpunkte_ts = [datetime.strptime(end_zeitpunkte[0], \"%Y-%m-%d\").date()]\n",
    "\n",
    "#hier Zeitraum der historischen Daten anpassen:\n",
    "time_horizont = 3\n",
    "start_zeitpunkte_ts = [end_zeitpunkte_ts[0]-relativedelta(years=time_horizont)]\n",
    "filtered_df = data.loc[start_zeitpunkte_ts[0]:end_zeitpunkte_ts[0]]\n",
    "hist_data = filtered_df[: len(filtered_df)-10]\n",
    "hist_data_for_function = hist_data.copy()\n",
    "prog_data = filtered_df[len(filtered_df)-10 :]\n",
    "index_list = prog_data.index.tolist()\n",
    "\n",
    "forecast_df, df_train, df_valid = LSTM_real(hist_data_for_function)\n",
    "\n",
    "forecast_df.set_index(pd.Index(index_list), inplace=True)\n",
    "result = pd.concat([prog_data, forecast_df], axis=1)\n",
    "true_data = hist_data.iloc[50:]"
   ]
  },
  {
   "cell_type": "code",
   "execution_count": 29,
   "id": "c93b32ca",
   "metadata": {},
   "outputs": [],
   "source": [
    "fig = px.line(template = \"simple_white\")\n",
    "fig.add_trace(go.Scatter(x = true_data.index[-241:], y = true_data[\"Close\"][-241:], mode = \"lines\", name = \"Tatsächliche Daten\", line_color = \"red\"))\n",
    "fig.add_trace(go.Scatter(x = df_train.index[-100:], y = df_train[\"Pred\"][-100:], mode = \"lines\", name = \"Prognostizierte Trainingsdaten\", line_color = \"blue\"))\n",
    "fig.add_trace(go.Scatter(x = df_valid.index, y = df_valid[\"Pred\"], mode = \"lines\", name = \"Prognostizierte Validierungsdaten\", line_color = \"green\"))\n",
    "fig.update_layout(xaxis_title = \"Datum\", yaxis_title = \"MC Donalds Kurspreis in EUR\", legend=dict(x=0.5, y=1))\n",
    "fig.write_image(\"Train_LSTM.pdf\")\n"
   ]
  },
  {
   "cell_type": "code",
   "execution_count": 26,
   "id": "3cdd4796",
   "metadata": {},
   "outputs": [
    {
     "data": {
      "application/vnd.plotly.v1+json": {
       "config": {
        "plotlyServerURL": "https://plot.ly"
       },
       "data": [
        {
         "hovertemplate": "<extra></extra>",
         "legendgroup": "",
         "line": {
          "color": "#1F77B4",
          "dash": "solid"
         },
         "marker": {
          "symbol": "circle"
         },
         "mode": "lines",
         "name": "",
         "orientation": "v",
         "showlegend": false,
         "type": "scatter",
         "xaxis": "x",
         "yaxis": "y"
        },
        {
         "line": {
          "color": "red"
         },
         "mode": "lines",
         "name": "Tatsächlicher Kurs",
         "type": "scatter",
         "x": [
          "2023-06-26",
          "2023-06-27",
          "2023-06-28",
          "2023-06-29",
          "2023-06-30",
          "2023-07-03",
          "2023-07-04",
          "2023-07-05",
          "2023-07-06",
          "2023-07-07"
         ],
         "y": [
          263.8999938964844,
          265,
          266.5,
          269.8999938964844,
          272,
          271.6000061035156,
          271.29998779296875,
          271.79998779296875,
          270.70001220703125,
          268.1000061035156
         ]
        },
        {
         "line": {
          "color": "blue"
         },
         "mode": "lines",
         "name": "Prognose",
         "type": "scatter",
         "x": [
          "2023-06-26",
          "2023-06-27",
          "2023-06-28",
          "2023-06-29",
          "2023-06-30",
          "2023-07-03",
          "2023-07-04",
          "2023-07-05",
          "2023-07-06",
          "2023-07-07"
         ],
         "y": [
          267.440673828125,
          267.0262451171875,
          266.6116027832031,
          266.20751953125,
          265.8226318359375,
          265.4630432128906,
          265.1325378417969,
          264.8328552246094,
          264.56414794921875,
          264.32513427734375
         ]
        }
       ],
       "layout": {
        "legend": {
         "tracegroupgap": 0,
         "x": 0,
         "y": 1
        },
        "margin": {
         "t": 60
        },
        "template": {
         "data": {
          "bar": [
           {
            "error_x": {
             "color": "rgb(36,36,36)"
            },
            "error_y": {
             "color": "rgb(36,36,36)"
            },
            "marker": {
             "line": {
              "color": "white",
              "width": 0.5
             },
             "pattern": {
              "fillmode": "overlay",
              "size": 10,
              "solidity": 0.2
             }
            },
            "type": "bar"
           }
          ],
          "barpolar": [
           {
            "marker": {
             "line": {
              "color": "white",
              "width": 0.5
             },
             "pattern": {
              "fillmode": "overlay",
              "size": 10,
              "solidity": 0.2
             }
            },
            "type": "barpolar"
           }
          ],
          "carpet": [
           {
            "aaxis": {
             "endlinecolor": "rgb(36,36,36)",
             "gridcolor": "white",
             "linecolor": "white",
             "minorgridcolor": "white",
             "startlinecolor": "rgb(36,36,36)"
            },
            "baxis": {
             "endlinecolor": "rgb(36,36,36)",
             "gridcolor": "white",
             "linecolor": "white",
             "minorgridcolor": "white",
             "startlinecolor": "rgb(36,36,36)"
            },
            "type": "carpet"
           }
          ],
          "choropleth": [
           {
            "colorbar": {
             "outlinewidth": 1,
             "tickcolor": "rgb(36,36,36)",
             "ticks": "outside"
            },
            "type": "choropleth"
           }
          ],
          "contour": [
           {
            "colorbar": {
             "outlinewidth": 1,
             "tickcolor": "rgb(36,36,36)",
             "ticks": "outside"
            },
            "colorscale": [
             [
              0,
              "#440154"
             ],
             [
              0.1111111111111111,
              "#482878"
             ],
             [
              0.2222222222222222,
              "#3e4989"
             ],
             [
              0.3333333333333333,
              "#31688e"
             ],
             [
              0.4444444444444444,
              "#26828e"
             ],
             [
              0.5555555555555556,
              "#1f9e89"
             ],
             [
              0.6666666666666666,
              "#35b779"
             ],
             [
              0.7777777777777778,
              "#6ece58"
             ],
             [
              0.8888888888888888,
              "#b5de2b"
             ],
             [
              1,
              "#fde725"
             ]
            ],
            "type": "contour"
           }
          ],
          "contourcarpet": [
           {
            "colorbar": {
             "outlinewidth": 1,
             "tickcolor": "rgb(36,36,36)",
             "ticks": "outside"
            },
            "type": "contourcarpet"
           }
          ],
          "heatmap": [
           {
            "colorbar": {
             "outlinewidth": 1,
             "tickcolor": "rgb(36,36,36)",
             "ticks": "outside"
            },
            "colorscale": [
             [
              0,
              "#440154"
             ],
             [
              0.1111111111111111,
              "#482878"
             ],
             [
              0.2222222222222222,
              "#3e4989"
             ],
             [
              0.3333333333333333,
              "#31688e"
             ],
             [
              0.4444444444444444,
              "#26828e"
             ],
             [
              0.5555555555555556,
              "#1f9e89"
             ],
             [
              0.6666666666666666,
              "#35b779"
             ],
             [
              0.7777777777777778,
              "#6ece58"
             ],
             [
              0.8888888888888888,
              "#b5de2b"
             ],
             [
              1,
              "#fde725"
             ]
            ],
            "type": "heatmap"
           }
          ],
          "heatmapgl": [
           {
            "colorbar": {
             "outlinewidth": 1,
             "tickcolor": "rgb(36,36,36)",
             "ticks": "outside"
            },
            "colorscale": [
             [
              0,
              "#440154"
             ],
             [
              0.1111111111111111,
              "#482878"
             ],
             [
              0.2222222222222222,
              "#3e4989"
             ],
             [
              0.3333333333333333,
              "#31688e"
             ],
             [
              0.4444444444444444,
              "#26828e"
             ],
             [
              0.5555555555555556,
              "#1f9e89"
             ],
             [
              0.6666666666666666,
              "#35b779"
             ],
             [
              0.7777777777777778,
              "#6ece58"
             ],
             [
              0.8888888888888888,
              "#b5de2b"
             ],
             [
              1,
              "#fde725"
             ]
            ],
            "type": "heatmapgl"
           }
          ],
          "histogram": [
           {
            "marker": {
             "line": {
              "color": "white",
              "width": 0.6
             }
            },
            "type": "histogram"
           }
          ],
          "histogram2d": [
           {
            "colorbar": {
             "outlinewidth": 1,
             "tickcolor": "rgb(36,36,36)",
             "ticks": "outside"
            },
            "colorscale": [
             [
              0,
              "#440154"
             ],
             [
              0.1111111111111111,
              "#482878"
             ],
             [
              0.2222222222222222,
              "#3e4989"
             ],
             [
              0.3333333333333333,
              "#31688e"
             ],
             [
              0.4444444444444444,
              "#26828e"
             ],
             [
              0.5555555555555556,
              "#1f9e89"
             ],
             [
              0.6666666666666666,
              "#35b779"
             ],
             [
              0.7777777777777778,
              "#6ece58"
             ],
             [
              0.8888888888888888,
              "#b5de2b"
             ],
             [
              1,
              "#fde725"
             ]
            ],
            "type": "histogram2d"
           }
          ],
          "histogram2dcontour": [
           {
            "colorbar": {
             "outlinewidth": 1,
             "tickcolor": "rgb(36,36,36)",
             "ticks": "outside"
            },
            "colorscale": [
             [
              0,
              "#440154"
             ],
             [
              0.1111111111111111,
              "#482878"
             ],
             [
              0.2222222222222222,
              "#3e4989"
             ],
             [
              0.3333333333333333,
              "#31688e"
             ],
             [
              0.4444444444444444,
              "#26828e"
             ],
             [
              0.5555555555555556,
              "#1f9e89"
             ],
             [
              0.6666666666666666,
              "#35b779"
             ],
             [
              0.7777777777777778,
              "#6ece58"
             ],
             [
              0.8888888888888888,
              "#b5de2b"
             ],
             [
              1,
              "#fde725"
             ]
            ],
            "type": "histogram2dcontour"
           }
          ],
          "mesh3d": [
           {
            "colorbar": {
             "outlinewidth": 1,
             "tickcolor": "rgb(36,36,36)",
             "ticks": "outside"
            },
            "type": "mesh3d"
           }
          ],
          "parcoords": [
           {
            "line": {
             "colorbar": {
              "outlinewidth": 1,
              "tickcolor": "rgb(36,36,36)",
              "ticks": "outside"
             }
            },
            "type": "parcoords"
           }
          ],
          "pie": [
           {
            "automargin": true,
            "type": "pie"
           }
          ],
          "scatter": [
           {
            "fillpattern": {
             "fillmode": "overlay",
             "size": 10,
             "solidity": 0.2
            },
            "type": "scatter"
           }
          ],
          "scatter3d": [
           {
            "line": {
             "colorbar": {
              "outlinewidth": 1,
              "tickcolor": "rgb(36,36,36)",
              "ticks": "outside"
             }
            },
            "marker": {
             "colorbar": {
              "outlinewidth": 1,
              "tickcolor": "rgb(36,36,36)",
              "ticks": "outside"
             }
            },
            "type": "scatter3d"
           }
          ],
          "scattercarpet": [
           {
            "marker": {
             "colorbar": {
              "outlinewidth": 1,
              "tickcolor": "rgb(36,36,36)",
              "ticks": "outside"
             }
            },
            "type": "scattercarpet"
           }
          ],
          "scattergeo": [
           {
            "marker": {
             "colorbar": {
              "outlinewidth": 1,
              "tickcolor": "rgb(36,36,36)",
              "ticks": "outside"
             }
            },
            "type": "scattergeo"
           }
          ],
          "scattergl": [
           {
            "marker": {
             "colorbar": {
              "outlinewidth": 1,
              "tickcolor": "rgb(36,36,36)",
              "ticks": "outside"
             }
            },
            "type": "scattergl"
           }
          ],
          "scattermapbox": [
           {
            "marker": {
             "colorbar": {
              "outlinewidth": 1,
              "tickcolor": "rgb(36,36,36)",
              "ticks": "outside"
             }
            },
            "type": "scattermapbox"
           }
          ],
          "scatterpolar": [
           {
            "marker": {
             "colorbar": {
              "outlinewidth": 1,
              "tickcolor": "rgb(36,36,36)",
              "ticks": "outside"
             }
            },
            "type": "scatterpolar"
           }
          ],
          "scatterpolargl": [
           {
            "marker": {
             "colorbar": {
              "outlinewidth": 1,
              "tickcolor": "rgb(36,36,36)",
              "ticks": "outside"
             }
            },
            "type": "scatterpolargl"
           }
          ],
          "scatterternary": [
           {
            "marker": {
             "colorbar": {
              "outlinewidth": 1,
              "tickcolor": "rgb(36,36,36)",
              "ticks": "outside"
             }
            },
            "type": "scatterternary"
           }
          ],
          "surface": [
           {
            "colorbar": {
             "outlinewidth": 1,
             "tickcolor": "rgb(36,36,36)",
             "ticks": "outside"
            },
            "colorscale": [
             [
              0,
              "#440154"
             ],
             [
              0.1111111111111111,
              "#482878"
             ],
             [
              0.2222222222222222,
              "#3e4989"
             ],
             [
              0.3333333333333333,
              "#31688e"
             ],
             [
              0.4444444444444444,
              "#26828e"
             ],
             [
              0.5555555555555556,
              "#1f9e89"
             ],
             [
              0.6666666666666666,
              "#35b779"
             ],
             [
              0.7777777777777778,
              "#6ece58"
             ],
             [
              0.8888888888888888,
              "#b5de2b"
             ],
             [
              1,
              "#fde725"
             ]
            ],
            "type": "surface"
           }
          ],
          "table": [
           {
            "cells": {
             "fill": {
              "color": "rgb(237,237,237)"
             },
             "line": {
              "color": "white"
             }
            },
            "header": {
             "fill": {
              "color": "rgb(217,217,217)"
             },
             "line": {
              "color": "white"
             }
            },
            "type": "table"
           }
          ]
         },
         "layout": {
          "annotationdefaults": {
           "arrowhead": 0,
           "arrowwidth": 1
          },
          "autotypenumbers": "strict",
          "coloraxis": {
           "colorbar": {
            "outlinewidth": 1,
            "tickcolor": "rgb(36,36,36)",
            "ticks": "outside"
           }
          },
          "colorscale": {
           "diverging": [
            [
             0,
             "rgb(103,0,31)"
            ],
            [
             0.1,
             "rgb(178,24,43)"
            ],
            [
             0.2,
             "rgb(214,96,77)"
            ],
            [
             0.3,
             "rgb(244,165,130)"
            ],
            [
             0.4,
             "rgb(253,219,199)"
            ],
            [
             0.5,
             "rgb(247,247,247)"
            ],
            [
             0.6,
             "rgb(209,229,240)"
            ],
            [
             0.7,
             "rgb(146,197,222)"
            ],
            [
             0.8,
             "rgb(67,147,195)"
            ],
            [
             0.9,
             "rgb(33,102,172)"
            ],
            [
             1,
             "rgb(5,48,97)"
            ]
           ],
           "sequential": [
            [
             0,
             "#440154"
            ],
            [
             0.1111111111111111,
             "#482878"
            ],
            [
             0.2222222222222222,
             "#3e4989"
            ],
            [
             0.3333333333333333,
             "#31688e"
            ],
            [
             0.4444444444444444,
             "#26828e"
            ],
            [
             0.5555555555555556,
             "#1f9e89"
            ],
            [
             0.6666666666666666,
             "#35b779"
            ],
            [
             0.7777777777777778,
             "#6ece58"
            ],
            [
             0.8888888888888888,
             "#b5de2b"
            ],
            [
             1,
             "#fde725"
            ]
           ],
           "sequentialminus": [
            [
             0,
             "#440154"
            ],
            [
             0.1111111111111111,
             "#482878"
            ],
            [
             0.2222222222222222,
             "#3e4989"
            ],
            [
             0.3333333333333333,
             "#31688e"
            ],
            [
             0.4444444444444444,
             "#26828e"
            ],
            [
             0.5555555555555556,
             "#1f9e89"
            ],
            [
             0.6666666666666666,
             "#35b779"
            ],
            [
             0.7777777777777778,
             "#6ece58"
            ],
            [
             0.8888888888888888,
             "#b5de2b"
            ],
            [
             1,
             "#fde725"
            ]
           ]
          },
          "colorway": [
           "#1F77B4",
           "#FF7F0E",
           "#2CA02C",
           "#D62728",
           "#9467BD",
           "#8C564B",
           "#E377C2",
           "#7F7F7F",
           "#BCBD22",
           "#17BECF"
          ],
          "font": {
           "color": "rgb(36,36,36)"
          },
          "geo": {
           "bgcolor": "white",
           "lakecolor": "white",
           "landcolor": "white",
           "showlakes": true,
           "showland": true,
           "subunitcolor": "white"
          },
          "hoverlabel": {
           "align": "left"
          },
          "hovermode": "closest",
          "mapbox": {
           "style": "light"
          },
          "paper_bgcolor": "white",
          "plot_bgcolor": "white",
          "polar": {
           "angularaxis": {
            "gridcolor": "rgb(232,232,232)",
            "linecolor": "rgb(36,36,36)",
            "showgrid": false,
            "showline": true,
            "ticks": "outside"
           },
           "bgcolor": "white",
           "radialaxis": {
            "gridcolor": "rgb(232,232,232)",
            "linecolor": "rgb(36,36,36)",
            "showgrid": false,
            "showline": true,
            "ticks": "outside"
           }
          },
          "scene": {
           "xaxis": {
            "backgroundcolor": "white",
            "gridcolor": "rgb(232,232,232)",
            "gridwidth": 2,
            "linecolor": "rgb(36,36,36)",
            "showbackground": true,
            "showgrid": false,
            "showline": true,
            "ticks": "outside",
            "zeroline": false,
            "zerolinecolor": "rgb(36,36,36)"
           },
           "yaxis": {
            "backgroundcolor": "white",
            "gridcolor": "rgb(232,232,232)",
            "gridwidth": 2,
            "linecolor": "rgb(36,36,36)",
            "showbackground": true,
            "showgrid": false,
            "showline": true,
            "ticks": "outside",
            "zeroline": false,
            "zerolinecolor": "rgb(36,36,36)"
           },
           "zaxis": {
            "backgroundcolor": "white",
            "gridcolor": "rgb(232,232,232)",
            "gridwidth": 2,
            "linecolor": "rgb(36,36,36)",
            "showbackground": true,
            "showgrid": false,
            "showline": true,
            "ticks": "outside",
            "zeroline": false,
            "zerolinecolor": "rgb(36,36,36)"
           }
          },
          "shapedefaults": {
           "fillcolor": "black",
           "line": {
            "width": 0
           },
           "opacity": 0.3
          },
          "ternary": {
           "aaxis": {
            "gridcolor": "rgb(232,232,232)",
            "linecolor": "rgb(36,36,36)",
            "showgrid": false,
            "showline": true,
            "ticks": "outside"
           },
           "baxis": {
            "gridcolor": "rgb(232,232,232)",
            "linecolor": "rgb(36,36,36)",
            "showgrid": false,
            "showline": true,
            "ticks": "outside"
           },
           "bgcolor": "white",
           "caxis": {
            "gridcolor": "rgb(232,232,232)",
            "linecolor": "rgb(36,36,36)",
            "showgrid": false,
            "showline": true,
            "ticks": "outside"
           }
          },
          "title": {
           "x": 0.05
          },
          "xaxis": {
           "automargin": true,
           "gridcolor": "rgb(232,232,232)",
           "linecolor": "rgb(36,36,36)",
           "showgrid": false,
           "showline": true,
           "ticks": "outside",
           "title": {
            "standoff": 15
           },
           "zeroline": false,
           "zerolinecolor": "rgb(36,36,36)"
          },
          "yaxis": {
           "automargin": true,
           "gridcolor": "rgb(232,232,232)",
           "linecolor": "rgb(36,36,36)",
           "showgrid": false,
           "showline": true,
           "ticks": "outside",
           "title": {
            "standoff": 15
           },
           "zeroline": false,
           "zerolinecolor": "rgb(36,36,36)"
          }
         }
        },
        "xaxis": {
         "anchor": "y",
         "domain": [
          0,
          1
         ],
         "title": {
          "text": "Datum"
         },
         "type": "category"
        },
        "yaxis": {
         "anchor": "x",
         "domain": [
          0,
          1
         ],
         "title": {
          "text": "MC Donalds Kurspreis in EUR"
         }
        }
       }
      },
      "text/html": [
       "<div>                            <div id=\"84305818-aad7-43e4-a5a5-16c89a79a3f3\" class=\"plotly-graph-div\" style=\"height:525px; width:100%;\"></div>            <script type=\"text/javascript\">                require([\"plotly\"], function(Plotly) {                    window.PLOTLYENV=window.PLOTLYENV || {};                                    if (document.getElementById(\"84305818-aad7-43e4-a5a5-16c89a79a3f3\")) {                    Plotly.newPlot(                        \"84305818-aad7-43e4-a5a5-16c89a79a3f3\",                        [{\"hovertemplate\":\"<extra></extra>\",\"legendgroup\":\"\",\"line\":{\"color\":\"#1F77B4\",\"dash\":\"solid\"},\"marker\":{\"symbol\":\"circle\"},\"mode\":\"lines\",\"name\":\"\",\"orientation\":\"v\",\"showlegend\":false,\"xaxis\":\"x\",\"yaxis\":\"y\",\"type\":\"scatter\"},{\"line\":{\"color\":\"red\"},\"mode\":\"lines\",\"name\":\"Tats\\u00e4chlicher Kurs\",\"x\":[\"2023-06-26\",\"2023-06-27\",\"2023-06-28\",\"2023-06-29\",\"2023-06-30\",\"2023-07-03\",\"2023-07-04\",\"2023-07-05\",\"2023-07-06\",\"2023-07-07\"],\"y\":[263.8999938964844,265.0,266.5,269.8999938964844,272.0,271.6000061035156,271.29998779296875,271.79998779296875,270.70001220703125,268.1000061035156],\"type\":\"scatter\"},{\"line\":{\"color\":\"blue\"},\"mode\":\"lines\",\"name\":\"Prognose\",\"x\":[\"2023-06-26\",\"2023-06-27\",\"2023-06-28\",\"2023-06-29\",\"2023-06-30\",\"2023-07-03\",\"2023-07-04\",\"2023-07-05\",\"2023-07-06\",\"2023-07-07\"],\"y\":[267.440673828125,267.0262451171875,266.6116027832031,266.20751953125,265.8226318359375,265.4630432128906,265.1325378417969,264.8328552246094,264.56414794921875,264.32513427734375],\"type\":\"scatter\"}],                        {\"template\":{\"data\":{\"barpolar\":[{\"marker\":{\"line\":{\"color\":\"white\",\"width\":0.5},\"pattern\":{\"fillmode\":\"overlay\",\"size\":10,\"solidity\":0.2}},\"type\":\"barpolar\"}],\"bar\":[{\"error_x\":{\"color\":\"rgb(36,36,36)\"},\"error_y\":{\"color\":\"rgb(36,36,36)\"},\"marker\":{\"line\":{\"color\":\"white\",\"width\":0.5},\"pattern\":{\"fillmode\":\"overlay\",\"size\":10,\"solidity\":0.2}},\"type\":\"bar\"}],\"carpet\":[{\"aaxis\":{\"endlinecolor\":\"rgb(36,36,36)\",\"gridcolor\":\"white\",\"linecolor\":\"white\",\"minorgridcolor\":\"white\",\"startlinecolor\":\"rgb(36,36,36)\"},\"baxis\":{\"endlinecolor\":\"rgb(36,36,36)\",\"gridcolor\":\"white\",\"linecolor\":\"white\",\"minorgridcolor\":\"white\",\"startlinecolor\":\"rgb(36,36,36)\"},\"type\":\"carpet\"}],\"choropleth\":[{\"colorbar\":{\"outlinewidth\":1,\"tickcolor\":\"rgb(36,36,36)\",\"ticks\":\"outside\"},\"type\":\"choropleth\"}],\"contourcarpet\":[{\"colorbar\":{\"outlinewidth\":1,\"tickcolor\":\"rgb(36,36,36)\",\"ticks\":\"outside\"},\"type\":\"contourcarpet\"}],\"contour\":[{\"colorbar\":{\"outlinewidth\":1,\"tickcolor\":\"rgb(36,36,36)\",\"ticks\":\"outside\"},\"colorscale\":[[0.0,\"#440154\"],[0.1111111111111111,\"#482878\"],[0.2222222222222222,\"#3e4989\"],[0.3333333333333333,\"#31688e\"],[0.4444444444444444,\"#26828e\"],[0.5555555555555556,\"#1f9e89\"],[0.6666666666666666,\"#35b779\"],[0.7777777777777778,\"#6ece58\"],[0.8888888888888888,\"#b5de2b\"],[1.0,\"#fde725\"]],\"type\":\"contour\"}],\"heatmapgl\":[{\"colorbar\":{\"outlinewidth\":1,\"tickcolor\":\"rgb(36,36,36)\",\"ticks\":\"outside\"},\"colorscale\":[[0.0,\"#440154\"],[0.1111111111111111,\"#482878\"],[0.2222222222222222,\"#3e4989\"],[0.3333333333333333,\"#31688e\"],[0.4444444444444444,\"#26828e\"],[0.5555555555555556,\"#1f9e89\"],[0.6666666666666666,\"#35b779\"],[0.7777777777777778,\"#6ece58\"],[0.8888888888888888,\"#b5de2b\"],[1.0,\"#fde725\"]],\"type\":\"heatmapgl\"}],\"heatmap\":[{\"colorbar\":{\"outlinewidth\":1,\"tickcolor\":\"rgb(36,36,36)\",\"ticks\":\"outside\"},\"colorscale\":[[0.0,\"#440154\"],[0.1111111111111111,\"#482878\"],[0.2222222222222222,\"#3e4989\"],[0.3333333333333333,\"#31688e\"],[0.4444444444444444,\"#26828e\"],[0.5555555555555556,\"#1f9e89\"],[0.6666666666666666,\"#35b779\"],[0.7777777777777778,\"#6ece58\"],[0.8888888888888888,\"#b5de2b\"],[1.0,\"#fde725\"]],\"type\":\"heatmap\"}],\"histogram2dcontour\":[{\"colorbar\":{\"outlinewidth\":1,\"tickcolor\":\"rgb(36,36,36)\",\"ticks\":\"outside\"},\"colorscale\":[[0.0,\"#440154\"],[0.1111111111111111,\"#482878\"],[0.2222222222222222,\"#3e4989\"],[0.3333333333333333,\"#31688e\"],[0.4444444444444444,\"#26828e\"],[0.5555555555555556,\"#1f9e89\"],[0.6666666666666666,\"#35b779\"],[0.7777777777777778,\"#6ece58\"],[0.8888888888888888,\"#b5de2b\"],[1.0,\"#fde725\"]],\"type\":\"histogram2dcontour\"}],\"histogram2d\":[{\"colorbar\":{\"outlinewidth\":1,\"tickcolor\":\"rgb(36,36,36)\",\"ticks\":\"outside\"},\"colorscale\":[[0.0,\"#440154\"],[0.1111111111111111,\"#482878\"],[0.2222222222222222,\"#3e4989\"],[0.3333333333333333,\"#31688e\"],[0.4444444444444444,\"#26828e\"],[0.5555555555555556,\"#1f9e89\"],[0.6666666666666666,\"#35b779\"],[0.7777777777777778,\"#6ece58\"],[0.8888888888888888,\"#b5de2b\"],[1.0,\"#fde725\"]],\"type\":\"histogram2d\"}],\"histogram\":[{\"marker\":{\"line\":{\"color\":\"white\",\"width\":0.6}},\"type\":\"histogram\"}],\"mesh3d\":[{\"colorbar\":{\"outlinewidth\":1,\"tickcolor\":\"rgb(36,36,36)\",\"ticks\":\"outside\"},\"type\":\"mesh3d\"}],\"parcoords\":[{\"line\":{\"colorbar\":{\"outlinewidth\":1,\"tickcolor\":\"rgb(36,36,36)\",\"ticks\":\"outside\"}},\"type\":\"parcoords\"}],\"pie\":[{\"automargin\":true,\"type\":\"pie\"}],\"scatter3d\":[{\"line\":{\"colorbar\":{\"outlinewidth\":1,\"tickcolor\":\"rgb(36,36,36)\",\"ticks\":\"outside\"}},\"marker\":{\"colorbar\":{\"outlinewidth\":1,\"tickcolor\":\"rgb(36,36,36)\",\"ticks\":\"outside\"}},\"type\":\"scatter3d\"}],\"scattercarpet\":[{\"marker\":{\"colorbar\":{\"outlinewidth\":1,\"tickcolor\":\"rgb(36,36,36)\",\"ticks\":\"outside\"}},\"type\":\"scattercarpet\"}],\"scattergeo\":[{\"marker\":{\"colorbar\":{\"outlinewidth\":1,\"tickcolor\":\"rgb(36,36,36)\",\"ticks\":\"outside\"}},\"type\":\"scattergeo\"}],\"scattergl\":[{\"marker\":{\"colorbar\":{\"outlinewidth\":1,\"tickcolor\":\"rgb(36,36,36)\",\"ticks\":\"outside\"}},\"type\":\"scattergl\"}],\"scattermapbox\":[{\"marker\":{\"colorbar\":{\"outlinewidth\":1,\"tickcolor\":\"rgb(36,36,36)\",\"ticks\":\"outside\"}},\"type\":\"scattermapbox\"}],\"scatterpolargl\":[{\"marker\":{\"colorbar\":{\"outlinewidth\":1,\"tickcolor\":\"rgb(36,36,36)\",\"ticks\":\"outside\"}},\"type\":\"scatterpolargl\"}],\"scatterpolar\":[{\"marker\":{\"colorbar\":{\"outlinewidth\":1,\"tickcolor\":\"rgb(36,36,36)\",\"ticks\":\"outside\"}},\"type\":\"scatterpolar\"}],\"scatter\":[{\"fillpattern\":{\"fillmode\":\"overlay\",\"size\":10,\"solidity\":0.2},\"type\":\"scatter\"}],\"scatterternary\":[{\"marker\":{\"colorbar\":{\"outlinewidth\":1,\"tickcolor\":\"rgb(36,36,36)\",\"ticks\":\"outside\"}},\"type\":\"scatterternary\"}],\"surface\":[{\"colorbar\":{\"outlinewidth\":1,\"tickcolor\":\"rgb(36,36,36)\",\"ticks\":\"outside\"},\"colorscale\":[[0.0,\"#440154\"],[0.1111111111111111,\"#482878\"],[0.2222222222222222,\"#3e4989\"],[0.3333333333333333,\"#31688e\"],[0.4444444444444444,\"#26828e\"],[0.5555555555555556,\"#1f9e89\"],[0.6666666666666666,\"#35b779\"],[0.7777777777777778,\"#6ece58\"],[0.8888888888888888,\"#b5de2b\"],[1.0,\"#fde725\"]],\"type\":\"surface\"}],\"table\":[{\"cells\":{\"fill\":{\"color\":\"rgb(237,237,237)\"},\"line\":{\"color\":\"white\"}},\"header\":{\"fill\":{\"color\":\"rgb(217,217,217)\"},\"line\":{\"color\":\"white\"}},\"type\":\"table\"}]},\"layout\":{\"annotationdefaults\":{\"arrowhead\":0,\"arrowwidth\":1},\"autotypenumbers\":\"strict\",\"coloraxis\":{\"colorbar\":{\"outlinewidth\":1,\"tickcolor\":\"rgb(36,36,36)\",\"ticks\":\"outside\"}},\"colorscale\":{\"diverging\":[[0.0,\"rgb(103,0,31)\"],[0.1,\"rgb(178,24,43)\"],[0.2,\"rgb(214,96,77)\"],[0.3,\"rgb(244,165,130)\"],[0.4,\"rgb(253,219,199)\"],[0.5,\"rgb(247,247,247)\"],[0.6,\"rgb(209,229,240)\"],[0.7,\"rgb(146,197,222)\"],[0.8,\"rgb(67,147,195)\"],[0.9,\"rgb(33,102,172)\"],[1.0,\"rgb(5,48,97)\"]],\"sequential\":[[0.0,\"#440154\"],[0.1111111111111111,\"#482878\"],[0.2222222222222222,\"#3e4989\"],[0.3333333333333333,\"#31688e\"],[0.4444444444444444,\"#26828e\"],[0.5555555555555556,\"#1f9e89\"],[0.6666666666666666,\"#35b779\"],[0.7777777777777778,\"#6ece58\"],[0.8888888888888888,\"#b5de2b\"],[1.0,\"#fde725\"]],\"sequentialminus\":[[0.0,\"#440154\"],[0.1111111111111111,\"#482878\"],[0.2222222222222222,\"#3e4989\"],[0.3333333333333333,\"#31688e\"],[0.4444444444444444,\"#26828e\"],[0.5555555555555556,\"#1f9e89\"],[0.6666666666666666,\"#35b779\"],[0.7777777777777778,\"#6ece58\"],[0.8888888888888888,\"#b5de2b\"],[1.0,\"#fde725\"]]},\"colorway\":[\"#1F77B4\",\"#FF7F0E\",\"#2CA02C\",\"#D62728\",\"#9467BD\",\"#8C564B\",\"#E377C2\",\"#7F7F7F\",\"#BCBD22\",\"#17BECF\"],\"font\":{\"color\":\"rgb(36,36,36)\"},\"geo\":{\"bgcolor\":\"white\",\"lakecolor\":\"white\",\"landcolor\":\"white\",\"showlakes\":true,\"showland\":true,\"subunitcolor\":\"white\"},\"hoverlabel\":{\"align\":\"left\"},\"hovermode\":\"closest\",\"mapbox\":{\"style\":\"light\"},\"paper_bgcolor\":\"white\",\"plot_bgcolor\":\"white\",\"polar\":{\"angularaxis\":{\"gridcolor\":\"rgb(232,232,232)\",\"linecolor\":\"rgb(36,36,36)\",\"showgrid\":false,\"showline\":true,\"ticks\":\"outside\"},\"bgcolor\":\"white\",\"radialaxis\":{\"gridcolor\":\"rgb(232,232,232)\",\"linecolor\":\"rgb(36,36,36)\",\"showgrid\":false,\"showline\":true,\"ticks\":\"outside\"}},\"scene\":{\"xaxis\":{\"backgroundcolor\":\"white\",\"gridcolor\":\"rgb(232,232,232)\",\"gridwidth\":2,\"linecolor\":\"rgb(36,36,36)\",\"showbackground\":true,\"showgrid\":false,\"showline\":true,\"ticks\":\"outside\",\"zeroline\":false,\"zerolinecolor\":\"rgb(36,36,36)\"},\"yaxis\":{\"backgroundcolor\":\"white\",\"gridcolor\":\"rgb(232,232,232)\",\"gridwidth\":2,\"linecolor\":\"rgb(36,36,36)\",\"showbackground\":true,\"showgrid\":false,\"showline\":true,\"ticks\":\"outside\",\"zeroline\":false,\"zerolinecolor\":\"rgb(36,36,36)\"},\"zaxis\":{\"backgroundcolor\":\"white\",\"gridcolor\":\"rgb(232,232,232)\",\"gridwidth\":2,\"linecolor\":\"rgb(36,36,36)\",\"showbackground\":true,\"showgrid\":false,\"showline\":true,\"ticks\":\"outside\",\"zeroline\":false,\"zerolinecolor\":\"rgb(36,36,36)\"}},\"shapedefaults\":{\"fillcolor\":\"black\",\"line\":{\"width\":0},\"opacity\":0.3},\"ternary\":{\"aaxis\":{\"gridcolor\":\"rgb(232,232,232)\",\"linecolor\":\"rgb(36,36,36)\",\"showgrid\":false,\"showline\":true,\"ticks\":\"outside\"},\"baxis\":{\"gridcolor\":\"rgb(232,232,232)\",\"linecolor\":\"rgb(36,36,36)\",\"showgrid\":false,\"showline\":true,\"ticks\":\"outside\"},\"bgcolor\":\"white\",\"caxis\":{\"gridcolor\":\"rgb(232,232,232)\",\"linecolor\":\"rgb(36,36,36)\",\"showgrid\":false,\"showline\":true,\"ticks\":\"outside\"}},\"title\":{\"x\":0.05},\"xaxis\":{\"automargin\":true,\"gridcolor\":\"rgb(232,232,232)\",\"linecolor\":\"rgb(36,36,36)\",\"showgrid\":false,\"showline\":true,\"ticks\":\"outside\",\"title\":{\"standoff\":15},\"zeroline\":false,\"zerolinecolor\":\"rgb(36,36,36)\"},\"yaxis\":{\"automargin\":true,\"gridcolor\":\"rgb(232,232,232)\",\"linecolor\":\"rgb(36,36,36)\",\"showgrid\":false,\"showline\":true,\"ticks\":\"outside\",\"title\":{\"standoff\":15},\"zeroline\":false,\"zerolinecolor\":\"rgb(36,36,36)\"}}},\"xaxis\":{\"anchor\":\"y\",\"domain\":[0.0,1.0],\"title\":{\"text\":\"Datum\"},\"type\":\"category\"},\"yaxis\":{\"anchor\":\"x\",\"domain\":[0.0,1.0],\"title\":{\"text\":\"MC Donalds Kurspreis in EUR\"}},\"legend\":{\"tracegroupgap\":0,\"x\":0,\"y\":1},\"margin\":{\"t\":60}},                        {\"responsive\": true}                    ).then(function(){\n",
       "                            \n",
       "var gd = document.getElementById('84305818-aad7-43e4-a5a5-16c89a79a3f3');\n",
       "var x = new MutationObserver(function (mutations, observer) {{\n",
       "        var display = window.getComputedStyle(gd).display;\n",
       "        if (!display || display === 'none') {{\n",
       "            console.log([gd, 'removed!']);\n",
       "            Plotly.purge(gd);\n",
       "            observer.disconnect();\n",
       "        }}\n",
       "}});\n",
       "\n",
       "// Listen for the removal of the full notebook cells\n",
       "var notebookContainer = gd.closest('#notebook-container');\n",
       "if (notebookContainer) {{\n",
       "    x.observe(notebookContainer, {childList: true});\n",
       "}}\n",
       "\n",
       "// Listen for the clearing of the current output cell\n",
       "var outputEl = gd.closest('.output');\n",
       "if (outputEl) {{\n",
       "    x.observe(outputEl, {childList: true});\n",
       "}}\n",
       "\n",
       "                        })                };                });            </script>        </div>"
      ]
     },
     "metadata": {},
     "output_type": "display_data"
    }
   ],
   "source": [
    "fig2 = px.line(template = \"simple_white\")\n",
    "fig2.add_trace(go.Scatter(x = result.index.strftime(\"%Y-%m-%d\"), y = result[\"Close\"], mode = \"lines\", name = \"Tatsächlicher Kurs\", line_color = \"red\"))\n",
    "fig2.add_trace(go.Scatter(x = result.index.strftime(\"%Y-%m-%d\"), y = result[\"Predicted Price\"], mode = \"lines\", name = \"Prognose\", line_color = \"blue\"))\n",
    "fig2.update_layout(xaxis_title = \"Datum\", yaxis_title = \"MC Donalds Kurspreis in EUR\", xaxis= {\"type\": \"category\"}, legend=dict(x=0, y=1))\n",
    "#fig2.write_image(\"Prog_LSTM.pdf\")\n"
   ]
  },
  {
   "cell_type": "code",
   "execution_count": null,
   "id": "2450302d",
   "metadata": {},
   "outputs": [],
   "source": []
  }
 ],
 "metadata": {
  "kernelspec": {
   "display_name": "Python 3 (ipykernel)",
   "language": "python",
   "name": "python3"
  },
  "language_info": {
   "codemirror_mode": {
    "name": "ipython",
    "version": 3
   },
   "file_extension": ".py",
   "mimetype": "text/x-python",
   "name": "python",
   "nbconvert_exporter": "python",
   "pygments_lexer": "ipython3",
   "version": "3.9.12"
  }
 },
 "nbformat": 4,
 "nbformat_minor": 5
}
