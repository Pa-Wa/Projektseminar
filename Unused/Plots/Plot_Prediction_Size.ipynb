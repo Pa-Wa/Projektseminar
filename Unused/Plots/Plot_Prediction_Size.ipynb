{
 "cells": [
  {
   "cell_type": "code",
   "execution_count": 1,
   "id": "d2201587",
   "metadata": {},
   "outputs": [],
   "source": [
    "import pandas as pd\n",
    "import plotly.express as px\n",
    "import plotly.graph_objects as go"
   ]
  },
  {
   "cell_type": "code",
   "execution_count": 2,
   "id": "245b3ac1",
   "metadata": {},
   "outputs": [],
   "source": [
    "dates = [\n",
    "\"03.04.2023\",\n",
    "\"04.04.2023\",\n",
    "\"05.04.2023\",\n",
    "\"06.04.2023\",\n",
    "\"10.04.2023\",\n",
    "\"11.04.2023\",\n",
    "\"12.04.2023\",\n",
    "\"13.04.2023\",\n",
    "\"14.04.2023\",\n",
    "\"17.04.2023\",\n",
    "\"18.04.2023\",\n",
    "\"19.04.2023\",\n",
    "\"20.04.2023\",\n",
    "\"21.04.2023\",\n",
    "\"24.04.2023\",\n",
    "\"25.04.2023\",\n",
    "\"26.04.2023\",\n",
    "\"27.04.2023\",\n",
    "\"28.04.2023\",\n",
    "\"01.05.2023\",\n",
    "\"02.05.2023\",\n",
    "\"03.05.2023\",\n",
    "\"04.05.2023\",\n",
    "\"05.05.2023\",\n",
    "\"08.05.2023\",\n",
    "\"09.05.2023\",\n",
    "\"10.05.2023\",\n",
    "\"11.05.2023\",\n",
    "\"12.05.2023\",\n",
    "\"15.05.2023\"\n",
    "]"
   ]
  },
  {
   "cell_type": "code",
   "execution_count": 3,
   "id": "9cc408dd",
   "metadata": {},
   "outputs": [],
   "source": [
    "true =[194.770,192.580,185.520,185.060,184.510,186.790,180.540,185.900,185.000,187.040,184.310,180.590,162.990,165.080,162.550,160.670,153.750,160.190,164.310,161.830,160.310,160.610,161.200,170.060,171.790,169.150,168.540,172.080,167.980,166.350]\n",
    "lstm =[198.83,198.24,197.25,195.98,194.55,193.05,191.54,190.05,188.60,187.21,185.87,184.59,183.37,182.19,181.06,179.97,178.92,177.91,176.93,175.99,175.07,174.18,173.31,172.48,171.66,170.88,170.11,169.37,168.65,167.95]\n",
    "lstmos =[189.68,185.42,190.00,190.91,190.96,192.02,194.53,199.24,194.98,195.11,199.12,194.05,201.62,201.97,201.73,204.42,204.24,203.01,201.90,202.52,206.73,208.02,209.17,209.13,207.71,210.43,211.33,213.94,211.10,214.30]\n"
   ]
  },
  {
   "cell_type": "code",
   "execution_count": 8,
   "id": "f2d4e03d",
   "metadata": {},
   "outputs": [],
   "source": [
    "fig2 = px.line(template = \"simple_white\")#template = \"simple_white\"\n",
    "fig2.add_trace(go.Scatter(x = dates, y = true, mode = \"lines\", name = \"Tatsächlicher Kurs\", line_color = \"red\"))\n",
    "fig2.add_trace(go.Scatter(x = dates, y = lstm, mode = \"lines\", name = \"LSTM Prognose\", line_color = \"blue\"))\n",
    "fig2.add_trace(go.Scatter(x = dates, y = lstmos, mode = \"lines\", name = \"LSTM-OS Prognose\", line_color = \"green\"))\n",
    "fig2.update_layout(xaxis_title = \"Datum\", yaxis_title = \"Tesla Kurspreis in USD\", xaxis= {\"type\": \"category\"},legend=dict(x=0, y=1))\n",
    "fig2.write_image(\"Prediction_Size_TSLA.pdf\")"
   ]
  },
  {
   "cell_type": "code",
   "execution_count": 5,
   "id": "7e515eaf",
   "metadata": {},
   "outputs": [],
   "source": [
    "true2=[43.37,43.84,43.13,41.88,42.06,42.04,41.63,41.12,41.18,40.90,40.75,40.86,41.79,42.23,42.44,41.21,41.29,42.14,41.84,42.47,42.05,42.88,42.50,42.24,42.06,42.43,41.80,42.97,43.65,44.17]\n",
    "lstm2 =[43.12,43.19,43.27,43.36,43.46,43.56,43.67,43.77,43.88,43.99,44.09,44.20,44.31,44.41,44.51,44.62,44.72,44.82,44.92,45.03,45.13,45.23,45.33,45.43,45.53,45.64,45.74,45.84,45.95,46.05]\n",
    "lstmos2=[42.75,42.85,42.94,42.84,42.72,42.78,43.13,42.90,43.21,43.24,43.48,43.60,43.43,43.55,43.42,43.52,43.74,43.73,43.82,44.01,44.02,43.97,44.12,44.31,44.36,44.46,44.38,44.42,44.67,44.76]"
   ]
  },
  {
   "cell_type": "code",
   "execution_count": 6,
   "id": "5d3a92ab",
   "metadata": {},
   "outputs": [],
   "source": [
    "dates2 = [\"02.05.2023\",\n",
    "\"03.05.2023\",\n",
    "\"04.05.2023\",\n",
    "\"05.05.2023\",\n",
    "\"08.05.2023\",\n",
    "\"09.05.2023\",\n",
    "\"10.05.2023\",\n",
    "\"11.05.2023\",\n",
    "\"12.05.2023\",\n",
    "\"15.05.2023\",\n",
    "\"16.05.2023\",\n",
    "\"17.05.2023\",\n",
    "\"18.05.2023\",\n",
    "\"19.05.2023\",\n",
    "\"22.05.2023\",\n",
    "\"24.05.2023\",\n",
    "\"25.05.2023\",\n",
    "\"26.05.2023\",\n",
    "\"29.05.2023\",\n",
    "\"30.05.2023\",\n",
    "\"31.05.2023\",\n",
    "\"02.06.2023\",\n",
    "\"05.06.2023\",\n",
    "\"06.06.2023\",\n",
    "\"07.06.2023\",\n",
    "\"08.06.2023\",\n",
    "\"09.06.2023\",\n",
    "\"13.06.2023\",\n",
    "\"14.06.2023\",\n",
    "\"15.06.2023\"]"
   ]
  },
  {
   "cell_type": "code",
   "execution_count": 9,
   "id": "fdb90ad1",
   "metadata": {},
   "outputs": [],
   "source": [
    "fig3 = px.line(template = \"simple_white\")#template = \"simple_white\"\n",
    "fig3.add_trace(go.Scatter(x = dates2, y = true2, mode = \"lines\", name = \"Tatsächlicher Kurs\", line_color = \"red\"))\n",
    "fig3.add_trace(go.Scatter(x = dates2, y = lstm2, mode = \"lines\", name = \"LSTM Prognose\", line_color = \"blue\"))\n",
    "fig3.add_trace(go.Scatter(x = dates2, y = lstmos2, mode = \"lines\", name = \"LSTM-OS Prognose\", line_color = \"green\"))\n",
    "fig3.update_layout(xaxis_title = \"Datum\", yaxis_title = \"Deutsche Post Kurspreis in EUR\", xaxis= {\"type\": \"category\"},legend=dict(x=0, y=1))\n",
    "\n",
    "fig3.write_image(\"Prediction_Size_DeutschePost.pdf\")"
   ]
  },
  {
   "cell_type": "code",
   "execution_count": null,
   "id": "60ed8d90",
   "metadata": {},
   "outputs": [],
   "source": []
  }
 ],
 "metadata": {
  "kernelspec": {
   "display_name": "Python 3 (ipykernel)",
   "language": "python",
   "name": "python3"
  },
  "language_info": {
   "codemirror_mode": {
    "name": "ipython",
    "version": 3
   },
   "file_extension": ".py",
   "mimetype": "text/x-python",
   "name": "python",
   "nbconvert_exporter": "python",
   "pygments_lexer": "ipython3",
   "version": "3.9.12"
  }
 },
 "nbformat": 4,
 "nbformat_minor": 5
}
