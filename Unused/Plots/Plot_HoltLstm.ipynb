{
 "cells": [
  {
   "cell_type": "code",
   "execution_count": 1,
   "id": "e743011b",
   "metadata": {},
   "outputs": [],
   "source": [
    "import pandas as pd\n",
    "import plotly.express as px\n",
    "import plotly.graph_objects as go"
   ]
  },
  {
   "cell_type": "code",
   "execution_count": 2,
   "id": "f042d99c",
   "metadata": {},
   "outputs": [],
   "source": [
    "dates = [\"24.05.2023\",\n",
    "\"25.05.2023\",\n",
    "\"26.05.2023\",\n",
    "\"29.05.2023\",\n",
    "\"30.05.2023\",\n",
    "\"31.05.2023\",\n",
    "\"02.06.2023\",\n",
    "\"05.06.2023\",\n",
    "\"06.06.2023\",\n",
    "\"07.06.2023\"\n",
    "]"
   ]
  },
  {
   "cell_type": "code",
   "execution_count": 3,
   "id": "8f8b632b",
   "metadata": {},
   "outputs": [],
   "source": [
    "true = [4.02,\n",
    "4.10,\n",
    "4.23,\n",
    "4.63,\n",
    "5.32,\n",
    "6.14,\n",
    "6.20,\n",
    "4.97,\n",
    "5.25,\n",
    "5.62,\n",
    "]\n",
    "holt = [3.88,\n",
    "3.91,\n",
    "3.79,\n",
    "3.85,\n",
    "3.80,\n",
    "3.88,\n",
    "3.87,\n",
    "3.89,\n",
    "3.87,\n",
    "3.86\n",
    "]\n",
    "lstm = [3.94,\n",
    "3.97,\n",
    "4.00,\n",
    "4.04,\n",
    "4.08,\n",
    "4.12,\n",
    "4.16,\n",
    "4.21,\n",
    "4.25,\n",
    "4.30\n",
    "]"
   ]
  },
  {
   "cell_type": "code",
   "execution_count": 5,
   "id": "d76af348",
   "metadata": {},
   "outputs": [],
   "source": [
    "fig3 = px.line(template = \"simple_white\")#template = \"simple_white\"\n",
    "fig3.add_trace(go.Scatter(x = dates, y = true, mode = \"lines\", name = \"Tatsächlicher Kurs\", line_color = \"red\"))\n",
    "fig3.add_trace(go.Scatter(x = dates, y = holt, mode = \"lines\", name = \"Holt-Winter Prognose\", line_color = \"blue\"))\n",
    "fig3.add_trace(go.Scatter(x = dates, y = lstm, mode = \"lines\", name = \"LSTM Prognose\", line_color = \"green\"))\n",
    "fig3.update_layout(xaxis_title = \"Datum\", yaxis_title = \"Uniper SE Kurspreis in EUR\", xaxis= {\"type\": \"category\"}, legend=dict(x=0, y=1))\n",
    "fig3.write_image(\"Holt_LSTM.pdf\")"
   ]
  },
  {
   "cell_type": "code",
   "execution_count": null,
   "id": "a45c8a33",
   "metadata": {},
   "outputs": [],
   "source": []
  }
 ],
 "metadata": {
  "kernelspec": {
   "display_name": "Python 3 (ipykernel)",
   "language": "python",
   "name": "python3"
  },
  "language_info": {
   "codemirror_mode": {
    "name": "ipython",
    "version": 3
   },
   "file_extension": ".py",
   "mimetype": "text/x-python",
   "name": "python",
   "nbconvert_exporter": "python",
   "pygments_lexer": "ipython3",
   "version": "3.9.12"
  }
 },
 "nbformat": 4,
 "nbformat_minor": 5
}
